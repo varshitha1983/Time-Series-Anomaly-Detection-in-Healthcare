{
  "nbformat": 4,
  "nbformat_minor": 0,
  "metadata": {
    "colab": {
      "provenance": []
    },
    "kernelspec": {
      "name": "python3",
      "display_name": "Python 3"
    },
    "language_info": {
      "name": "python"
    }
  },
  "cells": [
    {
      "cell_type": "markdown",
      "source": [],
      "metadata": {
        "id": "Bn4smLoN5DJw"
      }
    },
    {
      "cell_type": "code",
      "source": [
        "!gdown --id 16MIleqoIr1vYxlGk4GKnGmrsCPuWkkpT\n",
        "!unzip -qq ECG5000.zip"
      ],
      "metadata": {
        "colab": {
          "base_uri": "https://localhost:8080/"
        },
        "id": "gjxqk5QOAlSD",
        "outputId": "095e99c3-441d-4d79-efd2-6f4953ad1aa7"
      },
      "execution_count": 4,
      "outputs": [
        {
          "output_type": "stream",
          "name": "stdout",
          "text": [
            "/usr/local/lib/python3.10/dist-packages/gdown/__main__.py:140: FutureWarning: Option `--id` was deprecated in version 4.3.1 and will be removed in 5.0. You don't need to pass it anymore to use a file ID.\n",
            "  warnings.warn(\n",
            "Downloading...\n",
            "From: https://drive.google.com/uc?id=16MIleqoIr1vYxlGk4GKnGmrsCPuWkkpT\n",
            "To: /content/ECG5000.zip\n",
            "100% 10.6M/10.6M [00:00<00:00, 32.7MB/s]\n"
          ]
        }
      ]
    },
    {
      "cell_type": "code",
      "source": [
        "!pip install -q liac-arff"
      ],
      "metadata": {
        "colab": {
          "base_uri": "https://localhost:8080/"
        },
        "id": "zq4ycGRqEJaS",
        "outputId": "304ea885-b392-424d-fdfd-3b75abe4f313"
      },
      "execution_count": 5,
      "outputs": [
        {
          "output_type": "stream",
          "name": "stdout",
          "text": [
            "  Preparing metadata (setup.py) ... \u001b[?25l\u001b[?25hdone\n",
            "  Building wheel for liac-arff (setup.py) ... \u001b[?25l\u001b[?25hdone\n"
          ]
        }
      ]
    },
    {
      "cell_type": "code",
      "execution_count": 6,
      "metadata": {
        "id": "wEdO8a794hXR"
      },
      "outputs": [],
      "source": [
        "from sklearn.metrics import confusion_matrix, classification_report, roc_auc_score, precision_recall_curve\n",
        "from glob import glob\n",
        "import time\n",
        "import copy\n",
        "from sklearn.model_selection import train_test_split\n",
        "import matplotlib.pyplot as plt\n",
        "import seaborn as sns\n",
        "import shutil\n",
        "import torch\n",
        "from torch import nn, optim\n",
        "import torch.nn.functional as F\n",
        "from torchvision import datasets, transforms, models\n",
        "import arff\n",
        "import pandas as pd\n",
        "import numpy as np\n",
        "from sklearn.preprocessing import MinMaxScaler"
      ]
    },
    {
      "cell_type": "code",
      "source": [
        "# Set Random Seeds for Reproducibility\n",
        "RANDOM_SEED = 42\n",
        "np.random.seed(RANDOM_SEED)\n",
        "torch.manual_seed(RANDOM_SEED)"
      ],
      "metadata": {
        "colab": {
          "base_uri": "https://localhost:8080/"
        },
        "id": "yHhPKq947Sc3",
        "outputId": "0085a491-5c05-403e-b15f-52b470671f72"
      },
      "execution_count": 7,
      "outputs": [
        {
          "output_type": "execute_result",
          "data": {
            "text/plain": [
              "<torch._C.Generator at 0x7bb6cc72a0f0>"
            ]
          },
          "metadata": {},
          "execution_count": 7
        }
      ]
    },
    {
      "cell_type": "code",
      "source": [
        "# Device Configuration\n",
        "device = torch.device('cuda' if torch.cuda.is_available() else 'cpu')"
      ],
      "metadata": {
        "id": "vFJGTq_S7VUK"
      },
      "execution_count": 8,
      "outputs": []
    },
    {
      "cell_type": "code",
      "source": [
        "# Load and preprocess the dataset\n",
        "with open('ECG5000_TRAIN.arff', 'r') as f:\n",
        "    train = arff.load(f)\n",
        "train = pd.DataFrame(train['data'], columns=[attr[0] for attr in train['attributes']])\n",
        "\n",
        "with open('ECG5000_TEST.arff', 'r') as f:\n",
        "    test = arff.load(f)\n",
        "test = pd.DataFrame(test['data'], columns=[attr[0] for attr in test['attributes']])\n"
      ],
      "metadata": {
        "id": "zRe7GuJl7bY_"
      },
      "execution_count": 9,
      "outputs": []
    },
    {
      "cell_type": "code",
      "source": [
        "df = pd.concat([train, test], ignore_index=True)\n",
        "df = df.sample(frac=1.0)\n",
        "df.head()"
      ],
      "metadata": {
        "colab": {
          "base_uri": "https://localhost:8080/",
          "height": 255
        },
        "id": "rerGQFcM7eGu",
        "outputId": "cd7b1ce3-5001-41f7-8504-4f682fced1b6"
      },
      "execution_count": 10,
      "outputs": [
        {
          "output_type": "execute_result",
          "data": {
            "text/plain": [
              "          att1      att2      att3      att4      att5      att6      att7  \\\n",
              "1501  1.469756 -1.048520 -3.394356 -4.254399 -4.162834 -3.822570 -3.003609   \n",
              "2586 -1.998602 -3.770552 -4.267091 -4.256133 -3.515288 -2.554540 -1.699639   \n",
              "2653 -1.187772 -3.365038 -3.695653 -4.094781 -3.992549 -3.425381 -2.057643   \n",
              "1055  0.604969 -1.671363 -3.236131 -3.966465 -4.067820 -3.551897 -2.582864   \n",
              "705  -1.197203 -3.270123 -3.778723 -3.977574 -3.405060 -2.392634 -1.726322   \n",
              "\n",
              "          att8      att9     att10  ...    att132    att133    att134  \\\n",
              "1501 -1.799773 -1.500033 -1.025095  ...  0.945178  1.275588  1.617218   \n",
              "2586 -1.566366 -1.038815 -0.425483  ...  1.008577  1.024698  1.051141   \n",
              "2653 -1.277729 -1.307397 -0.623098  ...  1.085007  1.467196  1.413850   \n",
              "1055 -1.804755 -1.688151 -1.025897  ...  0.545222  0.649363  0.986846   \n",
              "705  -1.572748 -0.920075 -0.388731  ...  0.828168  0.914338  1.063077   \n",
              "\n",
              "        att135    att136    att137    att138    att139    att140  target  \n",
              "1501  1.580279  1.306195  1.351674  1.915517  1.672103 -1.039932       1  \n",
              "2586  1.015352  0.988475  1.050191  1.089509  1.465382  0.799517       1  \n",
              "2653  1.283822  0.923126  0.759235  0.932364  1.216265 -0.824489       1  \n",
              "1055  1.234495  1.280039  1.215985  1.617971  2.196543  0.023843       1  \n",
              "705   1.393479  1.469756  1.392281  1.144732  1.668263  1.734676       1  \n",
              "\n",
              "[5 rows x 141 columns]"
            ],
            "text/html": [
              "\n",
              "  <div id=\"df-979b6bac-2885-46e7-9326-920143984db6\" class=\"colab-df-container\">\n",
              "    <div>\n",
              "<style scoped>\n",
              "    .dataframe tbody tr th:only-of-type {\n",
              "        vertical-align: middle;\n",
              "    }\n",
              "\n",
              "    .dataframe tbody tr th {\n",
              "        vertical-align: top;\n",
              "    }\n",
              "\n",
              "    .dataframe thead th {\n",
              "        text-align: right;\n",
              "    }\n",
              "</style>\n",
              "<table border=\"1\" class=\"dataframe\">\n",
              "  <thead>\n",
              "    <tr style=\"text-align: right;\">\n",
              "      <th></th>\n",
              "      <th>att1</th>\n",
              "      <th>att2</th>\n",
              "      <th>att3</th>\n",
              "      <th>att4</th>\n",
              "      <th>att5</th>\n",
              "      <th>att6</th>\n",
              "      <th>att7</th>\n",
              "      <th>att8</th>\n",
              "      <th>att9</th>\n",
              "      <th>att10</th>\n",
              "      <th>...</th>\n",
              "      <th>att132</th>\n",
              "      <th>att133</th>\n",
              "      <th>att134</th>\n",
              "      <th>att135</th>\n",
              "      <th>att136</th>\n",
              "      <th>att137</th>\n",
              "      <th>att138</th>\n",
              "      <th>att139</th>\n",
              "      <th>att140</th>\n",
              "      <th>target</th>\n",
              "    </tr>\n",
              "  </thead>\n",
              "  <tbody>\n",
              "    <tr>\n",
              "      <th>1501</th>\n",
              "      <td>1.469756</td>\n",
              "      <td>-1.048520</td>\n",
              "      <td>-3.394356</td>\n",
              "      <td>-4.254399</td>\n",
              "      <td>-4.162834</td>\n",
              "      <td>-3.822570</td>\n",
              "      <td>-3.003609</td>\n",
              "      <td>-1.799773</td>\n",
              "      <td>-1.500033</td>\n",
              "      <td>-1.025095</td>\n",
              "      <td>...</td>\n",
              "      <td>0.945178</td>\n",
              "      <td>1.275588</td>\n",
              "      <td>1.617218</td>\n",
              "      <td>1.580279</td>\n",
              "      <td>1.306195</td>\n",
              "      <td>1.351674</td>\n",
              "      <td>1.915517</td>\n",
              "      <td>1.672103</td>\n",
              "      <td>-1.039932</td>\n",
              "      <td>1</td>\n",
              "    </tr>\n",
              "    <tr>\n",
              "      <th>2586</th>\n",
              "      <td>-1.998602</td>\n",
              "      <td>-3.770552</td>\n",
              "      <td>-4.267091</td>\n",
              "      <td>-4.256133</td>\n",
              "      <td>-3.515288</td>\n",
              "      <td>-2.554540</td>\n",
              "      <td>-1.699639</td>\n",
              "      <td>-1.566366</td>\n",
              "      <td>-1.038815</td>\n",
              "      <td>-0.425483</td>\n",
              "      <td>...</td>\n",
              "      <td>1.008577</td>\n",
              "      <td>1.024698</td>\n",
              "      <td>1.051141</td>\n",
              "      <td>1.015352</td>\n",
              "      <td>0.988475</td>\n",
              "      <td>1.050191</td>\n",
              "      <td>1.089509</td>\n",
              "      <td>1.465382</td>\n",
              "      <td>0.799517</td>\n",
              "      <td>1</td>\n",
              "    </tr>\n",
              "    <tr>\n",
              "      <th>2653</th>\n",
              "      <td>-1.187772</td>\n",
              "      <td>-3.365038</td>\n",
              "      <td>-3.695653</td>\n",
              "      <td>-4.094781</td>\n",
              "      <td>-3.992549</td>\n",
              "      <td>-3.425381</td>\n",
              "      <td>-2.057643</td>\n",
              "      <td>-1.277729</td>\n",
              "      <td>-1.307397</td>\n",
              "      <td>-0.623098</td>\n",
              "      <td>...</td>\n",
              "      <td>1.085007</td>\n",
              "      <td>1.467196</td>\n",
              "      <td>1.413850</td>\n",
              "      <td>1.283822</td>\n",
              "      <td>0.923126</td>\n",
              "      <td>0.759235</td>\n",
              "      <td>0.932364</td>\n",
              "      <td>1.216265</td>\n",
              "      <td>-0.824489</td>\n",
              "      <td>1</td>\n",
              "    </tr>\n",
              "    <tr>\n",
              "      <th>1055</th>\n",
              "      <td>0.604969</td>\n",
              "      <td>-1.671363</td>\n",
              "      <td>-3.236131</td>\n",
              "      <td>-3.966465</td>\n",
              "      <td>-4.067820</td>\n",
              "      <td>-3.551897</td>\n",
              "      <td>-2.582864</td>\n",
              "      <td>-1.804755</td>\n",
              "      <td>-1.688151</td>\n",
              "      <td>-1.025897</td>\n",
              "      <td>...</td>\n",
              "      <td>0.545222</td>\n",
              "      <td>0.649363</td>\n",
              "      <td>0.986846</td>\n",
              "      <td>1.234495</td>\n",
              "      <td>1.280039</td>\n",
              "      <td>1.215985</td>\n",
              "      <td>1.617971</td>\n",
              "      <td>2.196543</td>\n",
              "      <td>0.023843</td>\n",
              "      <td>1</td>\n",
              "    </tr>\n",
              "    <tr>\n",
              "      <th>705</th>\n",
              "      <td>-1.197203</td>\n",
              "      <td>-3.270123</td>\n",
              "      <td>-3.778723</td>\n",
              "      <td>-3.977574</td>\n",
              "      <td>-3.405060</td>\n",
              "      <td>-2.392634</td>\n",
              "      <td>-1.726322</td>\n",
              "      <td>-1.572748</td>\n",
              "      <td>-0.920075</td>\n",
              "      <td>-0.388731</td>\n",
              "      <td>...</td>\n",
              "      <td>0.828168</td>\n",
              "      <td>0.914338</td>\n",
              "      <td>1.063077</td>\n",
              "      <td>1.393479</td>\n",
              "      <td>1.469756</td>\n",
              "      <td>1.392281</td>\n",
              "      <td>1.144732</td>\n",
              "      <td>1.668263</td>\n",
              "      <td>1.734676</td>\n",
              "      <td>1</td>\n",
              "    </tr>\n",
              "  </tbody>\n",
              "</table>\n",
              "<p>5 rows × 141 columns</p>\n",
              "</div>\n",
              "    <div class=\"colab-df-buttons\">\n",
              "\n",
              "  <div class=\"colab-df-container\">\n",
              "    <button class=\"colab-df-convert\" onclick=\"convertToInteractive('df-979b6bac-2885-46e7-9326-920143984db6')\"\n",
              "            title=\"Convert this dataframe to an interactive table.\"\n",
              "            style=\"display:none;\">\n",
              "\n",
              "  <svg xmlns=\"http://www.w3.org/2000/svg\" height=\"24px\" viewBox=\"0 -960 960 960\">\n",
              "    <path d=\"M120-120v-720h720v720H120Zm60-500h600v-160H180v160Zm220 220h160v-160H400v160Zm0 220h160v-160H400v160ZM180-400h160v-160H180v160Zm440 0h160v-160H620v160ZM180-180h160v-160H180v160Zm440 0h160v-160H620v160Z\"/>\n",
              "  </svg>\n",
              "    </button>\n",
              "\n",
              "  <style>\n",
              "    .colab-df-container {\n",
              "      display:flex;\n",
              "      gap: 12px;\n",
              "    }\n",
              "\n",
              "    .colab-df-convert {\n",
              "      background-color: #E8F0FE;\n",
              "      border: none;\n",
              "      border-radius: 50%;\n",
              "      cursor: pointer;\n",
              "      display: none;\n",
              "      fill: #1967D2;\n",
              "      height: 32px;\n",
              "      padding: 0 0 0 0;\n",
              "      width: 32px;\n",
              "    }\n",
              "\n",
              "    .colab-df-convert:hover {\n",
              "      background-color: #E2EBFA;\n",
              "      box-shadow: 0px 1px 2px rgba(60, 64, 67, 0.3), 0px 1px 3px 1px rgba(60, 64, 67, 0.15);\n",
              "      fill: #174EA6;\n",
              "    }\n",
              "\n",
              "    .colab-df-buttons div {\n",
              "      margin-bottom: 4px;\n",
              "    }\n",
              "\n",
              "    [theme=dark] .colab-df-convert {\n",
              "      background-color: #3B4455;\n",
              "      fill: #D2E3FC;\n",
              "    }\n",
              "\n",
              "    [theme=dark] .colab-df-convert:hover {\n",
              "      background-color: #434B5C;\n",
              "      box-shadow: 0px 1px 3px 1px rgba(0, 0, 0, 0.15);\n",
              "      filter: drop-shadow(0px 1px 2px rgba(0, 0, 0, 0.3));\n",
              "      fill: #FFFFFF;\n",
              "    }\n",
              "  </style>\n",
              "\n",
              "    <script>\n",
              "      const buttonEl =\n",
              "        document.querySelector('#df-979b6bac-2885-46e7-9326-920143984db6 button.colab-df-convert');\n",
              "      buttonEl.style.display =\n",
              "        google.colab.kernel.accessAllowed ? 'block' : 'none';\n",
              "\n",
              "      async function convertToInteractive(key) {\n",
              "        const element = document.querySelector('#df-979b6bac-2885-46e7-9326-920143984db6');\n",
              "        const dataTable =\n",
              "          await google.colab.kernel.invokeFunction('convertToInteractive',\n",
              "                                                    [key], {});\n",
              "        if (!dataTable) return;\n",
              "\n",
              "        const docLinkHtml = 'Like what you see? Visit the ' +\n",
              "          '<a target=\"_blank\" href=https://colab.research.google.com/notebooks/data_table.ipynb>data table notebook</a>'\n",
              "          + ' to learn more about interactive tables.';\n",
              "        element.innerHTML = '';\n",
              "        dataTable['output_type'] = 'display_data';\n",
              "        await google.colab.output.renderOutput(dataTable, element);\n",
              "        const docLink = document.createElement('div');\n",
              "        docLink.innerHTML = docLinkHtml;\n",
              "        element.appendChild(docLink);\n",
              "      }\n",
              "    </script>\n",
              "  </div>\n",
              "\n",
              "\n",
              "<div id=\"df-c783d447-c17b-4b88-86ba-a0d771a394ab\">\n",
              "  <button class=\"colab-df-quickchart\" onclick=\"quickchart('df-c783d447-c17b-4b88-86ba-a0d771a394ab')\"\n",
              "            title=\"Suggest charts\"\n",
              "            style=\"display:none;\">\n",
              "\n",
              "<svg xmlns=\"http://www.w3.org/2000/svg\" height=\"24px\"viewBox=\"0 0 24 24\"\n",
              "     width=\"24px\">\n",
              "    <g>\n",
              "        <path d=\"M19 3H5c-1.1 0-2 .9-2 2v14c0 1.1.9 2 2 2h14c1.1 0 2-.9 2-2V5c0-1.1-.9-2-2-2zM9 17H7v-7h2v7zm4 0h-2V7h2v10zm4 0h-2v-4h2v4z\"/>\n",
              "    </g>\n",
              "</svg>\n",
              "  </button>\n",
              "\n",
              "<style>\n",
              "  .colab-df-quickchart {\n",
              "      --bg-color: #E8F0FE;\n",
              "      --fill-color: #1967D2;\n",
              "      --hover-bg-color: #E2EBFA;\n",
              "      --hover-fill-color: #174EA6;\n",
              "      --disabled-fill-color: #AAA;\n",
              "      --disabled-bg-color: #DDD;\n",
              "  }\n",
              "\n",
              "  [theme=dark] .colab-df-quickchart {\n",
              "      --bg-color: #3B4455;\n",
              "      --fill-color: #D2E3FC;\n",
              "      --hover-bg-color: #434B5C;\n",
              "      --hover-fill-color: #FFFFFF;\n",
              "      --disabled-bg-color: #3B4455;\n",
              "      --disabled-fill-color: #666;\n",
              "  }\n",
              "\n",
              "  .colab-df-quickchart {\n",
              "    background-color: var(--bg-color);\n",
              "    border: none;\n",
              "    border-radius: 50%;\n",
              "    cursor: pointer;\n",
              "    display: none;\n",
              "    fill: var(--fill-color);\n",
              "    height: 32px;\n",
              "    padding: 0;\n",
              "    width: 32px;\n",
              "  }\n",
              "\n",
              "  .colab-df-quickchart:hover {\n",
              "    background-color: var(--hover-bg-color);\n",
              "    box-shadow: 0 1px 2px rgba(60, 64, 67, 0.3), 0 1px 3px 1px rgba(60, 64, 67, 0.15);\n",
              "    fill: var(--button-hover-fill-color);\n",
              "  }\n",
              "\n",
              "  .colab-df-quickchart-complete:disabled,\n",
              "  .colab-df-quickchart-complete:disabled:hover {\n",
              "    background-color: var(--disabled-bg-color);\n",
              "    fill: var(--disabled-fill-color);\n",
              "    box-shadow: none;\n",
              "  }\n",
              "\n",
              "  .colab-df-spinner {\n",
              "    border: 2px solid var(--fill-color);\n",
              "    border-color: transparent;\n",
              "    border-bottom-color: var(--fill-color);\n",
              "    animation:\n",
              "      spin 1s steps(1) infinite;\n",
              "  }\n",
              "\n",
              "  @keyframes spin {\n",
              "    0% {\n",
              "      border-color: transparent;\n",
              "      border-bottom-color: var(--fill-color);\n",
              "      border-left-color: var(--fill-color);\n",
              "    }\n",
              "    20% {\n",
              "      border-color: transparent;\n",
              "      border-left-color: var(--fill-color);\n",
              "      border-top-color: var(--fill-color);\n",
              "    }\n",
              "    30% {\n",
              "      border-color: transparent;\n",
              "      border-left-color: var(--fill-color);\n",
              "      border-top-color: var(--fill-color);\n",
              "      border-right-color: var(--fill-color);\n",
              "    }\n",
              "    40% {\n",
              "      border-color: transparent;\n",
              "      border-right-color: var(--fill-color);\n",
              "      border-top-color: var(--fill-color);\n",
              "    }\n",
              "    60% {\n",
              "      border-color: transparent;\n",
              "      border-right-color: var(--fill-color);\n",
              "    }\n",
              "    80% {\n",
              "      border-color: transparent;\n",
              "      border-right-color: var(--fill-color);\n",
              "      border-bottom-color: var(--fill-color);\n",
              "    }\n",
              "    90% {\n",
              "      border-color: transparent;\n",
              "      border-bottom-color: var(--fill-color);\n",
              "    }\n",
              "  }\n",
              "</style>\n",
              "\n",
              "  <script>\n",
              "    async function quickchart(key) {\n",
              "      const quickchartButtonEl =\n",
              "        document.querySelector('#' + key + ' button');\n",
              "      quickchartButtonEl.disabled = true;  // To prevent multiple clicks.\n",
              "      quickchartButtonEl.classList.add('colab-df-spinner');\n",
              "      try {\n",
              "        const charts = await google.colab.kernel.invokeFunction(\n",
              "            'suggestCharts', [key], {});\n",
              "      } catch (error) {\n",
              "        console.error('Error during call to suggestCharts:', error);\n",
              "      }\n",
              "      quickchartButtonEl.classList.remove('colab-df-spinner');\n",
              "      quickchartButtonEl.classList.add('colab-df-quickchart-complete');\n",
              "    }\n",
              "    (() => {\n",
              "      let quickchartButtonEl =\n",
              "        document.querySelector('#df-c783d447-c17b-4b88-86ba-a0d771a394ab button');\n",
              "      quickchartButtonEl.style.display =\n",
              "        google.colab.kernel.accessAllowed ? 'block' : 'none';\n",
              "    })();\n",
              "  </script>\n",
              "</div>\n",
              "\n",
              "    </div>\n",
              "  </div>\n"
            ],
            "application/vnd.google.colaboratory.intrinsic+json": {
              "type": "dataframe",
              "variable_name": "df"
            }
          },
          "metadata": {},
          "execution_count": 10
        }
      ]
    },
    {
      "cell_type": "code",
      "source": [
        "CLASS_NORMAL = 1\n",
        "class_names = ['Normal', 'R on T', 'PVC', 'SP', 'UB']\n",
        "normal_df = df[df.target == str(CLASS_NORMAL)].drop(labels='target', axis=1)\n",
        "anomaly_df = df[df.target != str(CLASS_NORMAL)].drop(labels='target', axis=1)"
      ],
      "metadata": {
        "id": "Nt2h8azX7kUj"
      },
      "execution_count": 11,
      "outputs": []
    },
    {
      "cell_type": "code",
      "source": [
        "# Normalize sequences\n",
        "scaler = MinMaxScaler(feature_range=(0, 1))\n",
        "normal_df = pd.DataFrame(scaler.fit_transform(normal_df))\n",
        "anomaly_df = pd.DataFrame(scaler.transform(anomaly_df))\n",
        "\n",
        "train_df, val_df = train_test_split(normal_df, test_size=0.15, random_state=RANDOM_SEED)\n",
        "val_df, test_df = train_test_split(val_df, test_size=0.15, random_state=RANDOM_SEED)\n",
        "\n",
        "train_sequences = train_df.astype(np.float32).to_numpy().tolist()\n",
        "val_sequences = val_df.astype(np.float32).to_numpy().tolist()\n",
        "test_sequences = test_df.astype(np.float32).to_numpy().tolist()\n",
        "anomaly_sequences = anomaly_df.astype(np.float32).to_numpy().tolist()"
      ],
      "metadata": {
        "id": "i7ELK-nV7_sv"
      },
      "execution_count": 12,
      "outputs": []
    },
    {
      "cell_type": "code",
      "source": [
        "def create_dataset(sequences):\n",
        "    dataset = [torch.tensor(s).unsqueeze(1) for s in sequences]\n",
        "    n_seq, seq_len, n_features = torch.stack(dataset).shape\n",
        "    return dataset, seq_len, n_features\n",
        "\n",
        "train_dataset, seq_len, n_features = create_dataset(train_sequences)\n",
        "val_dataset, _, _ = create_dataset(val_sequences)\n",
        "test_normal_dataset, _, _ = create_dataset(test_sequences)\n",
        "test_anomaly_dataset, _, _ = create_dataset(anomaly_sequences)"
      ],
      "metadata": {
        "id": "ei8r2dPl8Cjo"
      },
      "execution_count": 13,
      "outputs": []
    },
    {
      "cell_type": "code",
      "source": [
        "# Model Definition\n",
        "class Encoder(nn.Module):\n",
        "    def __init__(self, seq_len, n_features, embedding_dim=64):\n",
        "        super(Encoder, self).__init__()\n",
        "        self.seq_len, self.n_features = seq_len, n_features\n",
        "        self.embedding_dim, self.hidden_dim = embedding_dim, 2 * embedding_dim\n",
        "        self.rnn1 = nn.LSTM(input_size=n_features, hidden_size=self.hidden_dim, num_layers=1, batch_first=True)\n",
        "        self.dropout1 = nn.Dropout(p=0.3)  # Added dropout\n",
        "        self.rnn2 = nn.LSTM(input_size=self.hidden_dim, hidden_size=embedding_dim, num_layers=1, batch_first=True)\n",
        "        self.dropout2 = nn.Dropout(p=0.3)  # Added dropout\n",
        "\n",
        "    def forward(self, x):\n",
        "        x = x.reshape((1, self.seq_len, self.n_features))\n",
        "        x, (_, _) = self.rnn1(x)\n",
        "        x = self.dropout1(x)\n",
        "        x, (hidden_n, _) = self.rnn2(x)\n",
        "        return hidden_n.reshape((self.n_features, self.embedding_dim))"
      ],
      "metadata": {
        "id": "Pw2XQAar8JZJ"
      },
      "execution_count": 14,
      "outputs": []
    },
    {
      "cell_type": "code",
      "source": [
        "class Decoder(nn.Module):\n",
        "    def __init__(self, seq_len, input_dim=64, n_features=1):\n",
        "        super(Decoder, self).__init__()\n",
        "        self.seq_len, self.input_dim = seq_len, input_dim\n",
        "        self.hidden_dim, self.n_features = 2 * input_dim, n_features\n",
        "        self.rnn1 = nn.LSTM(input_size=input_dim, hidden_size=input_dim, num_layers=1, batch_first=True)\n",
        "        self.dropout1 = nn.Dropout(p=0.3)  # Added dropout\n",
        "        self.rnn2 = nn.LSTM(input_size=input_dim, hidden_size=self.hidden_dim, num_layers=1, batch_first=True)\n",
        "        self.dropout2 = nn.Dropout(p=0.3)  # Added dropout\n",
        "        self.output_layer = nn.Linear(self.hidden_dim, n_features)\n",
        "\n",
        "    def forward(self, x):\n",
        "        x = x.repeat(self.seq_len, self.n_features)\n",
        "        x = x.reshape((self.n_features, self.seq_len, self.input_dim))\n",
        "        x, (hidden_n, cell_n) = self.rnn1(x)\n",
        "        x = self.dropout1(x)\n",
        "        x, (hidden_n, cell_n) = self.rnn2(x)\n",
        "        x = self.dropout2(x)\n",
        "        x = x.reshape((self.seq_len, self.hidden_dim))\n",
        "        return self.output_layer(x)"
      ],
      "metadata": {
        "id": "CGUoKdY08Ld8"
      },
      "execution_count": 15,
      "outputs": []
    },
    {
      "cell_type": "code",
      "source": [
        "class RecurrentAutoencoder(nn.Module):\n",
        "    def __init__(self, seq_len, n_features, embedding_dim=64):\n",
        "        super(RecurrentAutoencoder, self).__init__()\n",
        "        self.encoder = Encoder(seq_len, n_features, embedding_dim).to(device)\n",
        "        self.decoder = Decoder(seq_len, embedding_dim, n_features).to(device)\n",
        "\n",
        "    def forward(self, x):\n",
        "        x = self.encoder(x)\n",
        "        x = self.decoder(x)\n",
        "        return x"
      ],
      "metadata": {
        "id": "Yj9LGLtV8OF4"
      },
      "execution_count": 16,
      "outputs": []
    },
    {
      "cell_type": "code",
      "source": [
        "model = RecurrentAutoencoder(seq_len, n_features, 128)\n",
        "model = model.to(device)"
      ],
      "metadata": {
        "id": "nWDxW2FH8QpG"
      },
      "execution_count": 17,
      "outputs": []
    },
    {
      "cell_type": "code",
      "source": [
        "def train_model(model, train_dataset, val_dataset, n_epochs):\n",
        "    optimizer = torch.optim.Adam(model.parameters(), lr=1e-3)\n",
        "    criterion = nn.L1Loss(reduction='sum').to(device)\n",
        "    history = dict(train=[], val=[])\n",
        "    best_model_wts = copy.deepcopy(model.state_dict())\n",
        "    best_loss = float('inf')\n",
        "    for epoch in range(1, n_epochs + 1):\n",
        "        model.train()\n",
        "        train_losses = []\n",
        "        for seq_true in train_dataset:\n",
        "            optimizer.zero_grad()\n",
        "            seq_true = seq_true.to(device)\n",
        "            seq_pred = model(seq_true)\n",
        "            loss = criterion(seq_pred, seq_true)\n",
        "            loss.backward()\n",
        "            optimizer.step()\n",
        "            train_losses.append(loss.item())\n",
        "        val_losses = []\n",
        "        model.eval()\n",
        "        with torch.no_grad():\n",
        "            for seq_true in val_dataset:\n",
        "                seq_true = seq_true.to(device)\n",
        "                seq_pred = model(seq_true)\n",
        "                loss = criterion(seq_pred, seq_true)\n",
        "                val_losses.append(loss.item())\n",
        "        train_loss = np.mean(train_losses)\n",
        "        val_loss = np.mean(val_losses)\n",
        "        history['train'].append(train_loss)\n",
        "        history['val'].append(val_loss)\n",
        "        if val_loss < best_loss:\n",
        "            best_loss = val_loss\n",
        "            best_model_wts = copy.deepcopy(model.state_dict())\n",
        "        print(f'Epoch {epoch}: train loss {train_loss} val loss {val_loss}')\n",
        "    model.load_state_dict(best_model_wts)\n",
        "    return model.eval(), history"
      ],
      "metadata": {
        "id": "Mrrq2hOj8Tsn"
      },
      "execution_count": 18,
      "outputs": []
    },
    {
      "cell_type": "code",
      "source": [
        "model, history = train_model(model, train_dataset, val_dataset, n_epochs=10)"
      ],
      "metadata": {
        "colab": {
          "base_uri": "https://localhost:8080/"
        },
        "id": "PnS2PYCf8XI6",
        "outputId": "d3bd4121-fd5b-4892-9083-32e0a8acc945"
      },
      "execution_count": 19,
      "outputs": [
        {
          "output_type": "stream",
          "name": "stdout",
          "text": [
            "Epoch 1: train loss 16.32565715571461 val loss 14.303111025082167\n",
            "Epoch 2: train loss 14.19967161460732 val loss 13.71125114861355\n",
            "Epoch 3: train loss 13.922100005636096 val loss 13.41845743374158\n",
            "Epoch 4: train loss 13.618717476899755 val loss 13.237914867298578\n",
            "Epoch 5: train loss 13.139098920825987 val loss 11.194612062105568\n",
            "Epoch 6: train loss 11.299730089872607 val loss 11.559236854635259\n",
            "Epoch 7: train loss 11.11044439756308 val loss 10.593489386702096\n",
            "Epoch 8: train loss 10.896623910410373 val loss 10.363178653101768\n",
            "Epoch 9: train loss 10.561405278943518 val loss 10.091322498936806\n",
            "Epoch 10: train loss 11.976255787615331 val loss 11.453948276017302\n"
          ]
        }
      ]
    },
    {
      "cell_type": "code",
      "source": [
        "ax = plt.figure().gca()\n",
        "ax.plot(history['train'])\n",
        "ax.plot(history['val'])\n",
        "plt.ylabel('loss')\n",
        "plt.xlabel('epoch')\n",
        "plt.legend(['train', 'test'])\n",
        "plt.title('loss over training epoch')\n",
        "plt.show()"
      ],
      "metadata": {
        "colab": {
          "base_uri": "https://localhost:8080/",
          "height": 472
        },
        "id": "uOuR6feD8w3v",
        "outputId": "09592770-5e64-4c48-dcb2-0ad0cb896a21"
      },
      "execution_count": 20,
      "outputs": [
        {
          "output_type": "display_data",
          "data": {
            "text/plain": [
              "<Figure size 640x480 with 1 Axes>"
            ],
            "image/png": "[encoded data removed]"
          },
          "metadata": {}
        }
      ]
    },
    {
      "cell_type": "code",
      "source": [
        "def predict(model, dataset):\n",
        "    predictions, losses = [], []\n",
        "    criterion = nn.L1Loss(reduction='sum').to(device)\n",
        "    with torch.no_grad():\n",
        "        model.eval()\n",
        "        for seq_true in dataset:\n",
        "            seq_true = seq_true.to(device)\n",
        "            seq_pred = model(seq_true)\n",
        "            loss = criterion(seq_pred, seq_true)\n",
        "            predictions.append(seq_pred.cpu().numpy().flatten())\n",
        "            losses.append(loss.item())\n",
        "    return predictions, losses"
      ],
      "metadata": {
        "id": "yeeJEHfI8ztQ"
      },
      "execution_count": 21,
      "outputs": []
    },
    {
      "cell_type": "code",
      "source": [
        "# Automated Threshold Determination\n",
        "_, train_losses = predict(model, train_dataset)\n",
        "THRESHOLD = np.mean(train_losses) + 3 * np.std(train_losses)\n",
        "print(f'Calculated threshold: {THRESHOLD}')\n",
        "THRESHOLD = int(22)"
      ],
      "metadata": {
        "colab": {
          "base_uri": "https://localhost:8080/"
        },
        "id": "MwTzLonU83_g",
        "outputId": "5586fd30-b245-4016-a7e6-3f8a3fb96de2"
      },
      "execution_count": 22,
      "outputs": [
        {
          "output_type": "stream",
          "name": "stdout",
          "text": [
            "Calculated threshold: 28.379608603944256\n"
          ]
        }
      ]
    },
    {
      "cell_type": "code",
      "source": [
        "predictions, pred_losses = predict(model, test_normal_dataset)\n",
        "sns.displot(pred_losses, bins=50, kde=True)\n",
        "normal_correct = sum(l <= THRESHOLD for l in pred_losses)\n",
        "print(f'Correct normal predictions: {normal_correct}/{len(test_normal_dataset)}')"
      ],
      "metadata": {
        "colab": {
          "base_uri": "https://localhost:8080/",
          "height": 523
        },
        "id": "VvupLUOe87DE",
        "outputId": "cab1d98b-4898-4f17-e549-597c546e868b"
      },
      "execution_count": 23,
      "outputs": [
        {
          "output_type": "stream",
          "name": "stdout",
          "text": [
            "Correct normal predictions: 65/66\n"
          ]
        },
        {
          "output_type": "display_data",
          "data": {
            "text/plain": [
              "<Figure size 500x500 with 1 Axes>"
            ],
            "image/png": "[encoded data removed]"
          },
          "metadata": {}
        }
      ]
    },
    {
      "cell_type": "code",
      "source": [
        "predictions, anomaly_losses = predict(model, test_anomaly_dataset)\n",
        "sns.displot(anomaly_losses, bins=50, kde=True)\n",
        "anomaly_correct = sum(l <= THRESHOLD for l in anomaly_losses)\n",
        "print(f'Correct anomaly predictions: {anomaly_correct}/{len(test_anomaly_dataset)}')\n"
      ],
      "metadata": {
        "colab": {
          "base_uri": "https://localhost:8080/",
          "height": 523
        },
        "id": "-2w4b1rr8-Di",
        "outputId": "4e54adad-2305-4320-ba29-68d420c192fe"
      },
      "execution_count": 27,
      "outputs": [
        {
          "output_type": "stream",
          "name": "stdout",
          "text": [
            "Correct anomaly predictions: 1955/2081\n"
          ]
        },
        {
          "output_type": "display_data",
          "data": {
            "text/plain": [
              "<Figure size 500x500 with 1 Axes>"
            ],
            "image/png": "[encoded data removed]"
          },
          "metadata": {}
        }
      ]
    },
    {
      "cell_type": "code",
      "source": [
        "# Evaluation Metrics\n",
        "# Number of correct predictions\n",
        "normal_correct = 65  # example count of correctly predicted normal data\n",
        "anomaly_correct = 1957  # example count of correctly predicted anomaly data\n",
        "\n",
        "# Total number of test samples\n",
        "normal_total = len(test_normal_dataset)  # length of normal test data\n",
        "anomaly_total = len(test_anomaly_dataset)  # length of anomalous test data\n",
        "\n",
        "# True labels: 0 for normal data, 1 for anomalous data\n",
        "y_true = [0] * normal_total + [1] * anomaly_total\n",
        "\n",
        "# Predicted labels:\n",
        "# For normal data: We know 'normal_correct' are correctly predicted as 0, rest as 1\n",
        "# For anomaly data: We know 'anomaly_correct' are correctly predicted as 1, rest as 0\n",
        "normal_predictions = [0] * normal_correct + [1] * (normal_total - normal_correct)\n",
        "anomaly_predictions = [1] * anomaly_correct + [0] * (anomaly_total - anomaly_correct)\n",
        "\n",
        "# Concatenate the predicted labels\n",
        "y_pred = normal_predictions + anomaly_predictions\n",
        "\n",
        "# Ensure the lengths match\n",
        "assert len(y_true) == len(y_pred), f\"Length mismatch: y_true has {len(y_true)} and y_pred has {len(y_pred)}\"\n",
        "\n",
        "# Calculate confusion matrix\n",
        "conf_matrix = confusion_matrix(y_true, y_pred)\n",
        "\n",
        "# Print Confusion Matrix\n",
        "print(\"Confusion Matrix:\")\n",
        "print(conf_matrix)\n",
        "\n",
        "# Calculate and print classification report\n",
        "print(\"\\nClassification Report:\")\n",
        "print(classification_report(y_true, y_pred))\n",
        "\n",
        "# Calculate ROC-AUC score\n",
        "roc_auc = roc_auc_score(y_true, [*pred_losses, *anomaly_losses])\n",
        "print(f\"ROC-AUC Score: {roc_auc:.4f}\")\n",
        "\n",
        "# Calculate accuracy\n",
        "accuracy = (conf_matrix[0, 0] + conf_matrix[1, 1]) / conf_matrix.sum()\n",
        "print(f\"\\nAccuracy: {accuracy:.4f}\")\n",
        "\n",
        "# You can also add a summary section for quick reference\n",
        "print(\"\\nEvaluation Summary:\")\n",
        "print(f\"Accuracy: {accuracy:.4f}\")\n",
        "print(f\"ROC-AUC: {roc_auc:.4f}\")\n",
        "print(f\"Confusion Matrix: \\n{conf_matrix}\")"
      ],
      "metadata": {
        "colab": {
          "base_uri": "https://localhost:8080/"
        },
        "id": "_r_VpRv69Aeh",
        "outputId": "d749c6c4-52e0-48da-a2c9-b442cd61c1e0"
      },
      "execution_count": 34,
      "outputs": [
        {
          "output_type": "stream",
          "name": "stdout",
          "text": [
            "Confusion Matrix:\n",
            "[[  65    1]\n",
            " [ 124 1957]]\n",
            "\n",
            "Classification Report:\n",
            "              precision    recall  f1-score   support\n",
            "\n",
            "           0       0.34      0.98      0.51        66\n",
            "           1       1.00      0.94      0.97      2081\n",
            "\n",
            "    accuracy                           0.94      2147\n",
            "   macro avg       0.67      0.96      0.74      2147\n",
            "weighted avg       0.98      0.94      0.95      2147\n",
            "\n",
            "ROC-AUC Score: 0.9516\n",
            "\n",
            "Accuracy: 0.9418\n",
            "\n",
            "Evaluation Summary:\n",
            "Accuracy: 0.9418\n",
            "ROC-AUC: 0.9516\n",
            "Confusion Matrix: \n",
            "[[  65    1]\n",
            " [ 124 1957]]\n"
          ]
        }
      ]
    }
  ]
}